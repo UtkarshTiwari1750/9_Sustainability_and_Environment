import os
directory_path = "D:\Hackwave\wind_power_data"

file_list = os.listdir(directory_path)

air_temp_df = [];
air_temp_pattern = "air_temperature"
for file_name in file_list:
    if file_name.startswith(air_temp_pattern):
        file_path = os.path.join(directory_path, file_name)        
        
        try:
            df = pd.read_excel(file_path)
            air_temp_df.append(df)
        except Exception as e:
            print(f"Error importing {file_name}: {e}")

air_temp_combined = pd.concat(air_temp_df, ignore_index=True)


pow_gen_df = [];
pow_gen_pattern = "power_gen"
for file_name in file_list:
    if file_name.startswith(pow_gen_pattern):
        file_path = os.path.join(directory_path, file_name)        
        
        try:
            df = pd.read_excel(file_path)
            pow_gen_df.append(df)
        except Exception as e:
            print(f"Error importing {file_name}: {e}")

pow_gen_combined = pd.concat(pow_gen_df, ignore_index=True)


pressure_df = [];
pressure_pattern = "pressure"
for file_name in file_list:
    if file_name.startswith(pressure_pattern):
        file_path = os.path.join(directory_path, file_name)        
        
        try:
            df = pd.read_excel(file_path)
            pressure_df.append(df)
        except Exception as e:
            print(f"Error importing {file_name}: {e}")

pressure_combined = pd.concat(pressure_df, ignore_index=True)

wind_speed_df = [];
wind_speed_pattern = "wind_speed"
for file_name in file_list:
    if file_name.startswith(wind_speed_pattern):
        file_path = os.path.join(directory_path, file_name)        
        
        try:
            df = pd.read_excel(file_path)
            wind_speed_df.append(df)
        except Exception as e:
            print(f"Error importing {file_name}: {e}")

wind_speed_combined = pd.concat(wind_speed_df, ignore_index=True)

all_df = [air_temp_combined.set_index('DateTime'), pow_gen_combined.set_index('DateTime'), pressure_combined.set_index('DateTime'), wind_speed_combined.set_index('DateTime')]
all_combined = pd.concat(all_df, axis=1)
all_combined.to_csv('wind_power_combined.csv')



import os
directory_path = "D:\Hackwave\Grid_data"

file_list = os.listdir(directory_path)

grid_stability_df = [];
grid_stability_pattern = "grid_stability"
for file_name in file_list:
    if file_name.startswith(grid_stability_pattern):
        file_path = os.path.join(directory_path, file_name)        
        
        try:
            df = pd.read_csv(file_path)
            grid_stability_df.append(df)
        except Exception as e:
            print(f"Error importing {file_name}: {e}")

grid_stability_combined = pd.concat(grid_stability_df, ignore_index=True)



price_per_df = [];
price_per_pattern = "price_per"
for file_name in file_list:
    if file_name.startswith(price_per_pattern):
        file_path = os.path.join(directory_path, file_name)        
        
        try:
            df = pd.read_csv(file_path)
            price_per_df.append(df)
        except Exception as e:
            print(f"Error importing {file_name}: {e}")

price_per_combined = pd.concat(price_per_df, ignore_index=True)


unit_consumption_df = [];
unit_consumption_pattern = "unit_consumption"
for file_name in file_list:
    if file_name.startswith(unit_consumption_pattern):
        file_path = os.path.join(directory_path, file_name)        
        
        try:
            df = pd.read_csv(file_path)
            unit_consumption_df.append(df)
        except Exception as e:
            print(f"Error importing {file_name}: {e}")

unit_consumption_combined = pd.concat(unit_consumption_df, ignore_index=True)

all_df = [grid_stability_combined.set_index('date'), price_per_combined.set_index('date'), unit_consumption_combined.set_index('date')]
all_combined = pd.concat(all_df, axis=1)
all_combined.to_csv('grid_data_combined.csv')


directory_path = "D:\Hackwave\Grid_data"

file_list = os.listdir(directory_path)

grid_stability_df = [];
grid_stability_pattern = "grid_stability"
for file_name in file_list:
    if file_name.startswith(grid_stability_pattern):
        file_path = os.path.join(directory_path, file_name)        
        
        try:
            df = pd.read_csv(file_path)
            grid_stability_df.append(df)
        except Exception as e:
            print(f"Error importing {file_name}: {e}")

grid_stability_combined = pd.concat(grid_stability_df, ignore_index=True)



price_per_df = [];
price_per_pattern = "price_per"
for file_name in file_list:
    if file_name.startswith(price_per_pattern):
        file_path = os.path.join(directory_path, file_name)        
        
        try:
            df = pd.read_csv(file_path)
            price_per_df.append(df)
        except Exception as e:
            print(f"Error importing {file_name}: {e}")

price_per_combined = pd.concat(price_per_df, ignore_index=True)


unit_consumption_df = [];
unit_consumption_pattern = "unit_consumption"
for file_name in file_list:
    if file_name.startswith(unit_consumption_pattern):
        file_path = os.path.join(directory_path, file_name)        
        
        try:
            df = pd.read_csv(file_path)
            unit_consumption_df.append(df)
        except Exception as e:
            print(f"Error importing {file_name}: {e}")

unit_consumption_combined = pd.concat(unit_consumption_df, ignore_index=True)

all_df = [grid_stability_combined.set_index('date'), price_per_combined.set_index('date'), unit_consumption_combined.set_index('date')]
all_combined = pd.concat(all_df, axis=1)
all_combined.to_csv('grid_data_combined.csv')



wind_combined_df1 = pd.read_csv("grid_data_combined.csv")
grid_combined_df1 = pd.read_csv("wind_power_combined.csv")

all_df = [wind_combined_df1, grid_combined_df1]
all_combined = pd.concat(all_df, axis=1)
all_combined.to_csv('final_data.csv')



